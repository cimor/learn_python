{
 "cells": [
  {
   "cell_type": "markdown",
   "metadata": {},
   "source": [
    "## 使用syncio请求"
   ]
  },
  {
   "cell_type": "code",
   "execution_count": null,
   "metadata": {},
   "outputs": [
    {
     "name": "stdout",
     "output_type": "stream",
     "text": [
      "job  1 start\n",
      "job 1 takes 1s\n",
      "job  2 start\n",
      "job 2 takes 2s\n",
      "Syncio total time is 3.002347946166992s\n"
     ]
    }
   ],
   "source": [
    "import time\n",
    "\n",
    "def job(t):\n",
    "    print('job ',t,'start')\n",
    "    # 模拟任务执行\n",
    "    time.sleep(t)\n",
    "    print('job {} takes {}s'.format(t,t))\n",
    "    \n",
    "def main():\n",
    "    [job(x) for x in range(1,3)]\n",
    "    \n",
    "    \n",
    "begin = time.time()\n",
    "main()\n",
    "print('Syncio total time is {}s'.format(time.time()-begin))"
   ]
  },
  {
   "cell_type": "markdown",
   "metadata": {},
   "source": [
    "## 使用asyncio请求"
   ]
  },
  {
   "cell_type": "code",
   "execution_count": 4,
   "metadata": {},
   "outputs": [
    {
     "name": "stdout",
     "output_type": "stream",
     "text": [
      "Job 1 is starting...\nJob 2 is starting...\n"
     ]
    },
    {
     "name": "stdout",
     "output_type": "stream",
     "text": [
      "Job 1 takes 1s\n"
     ]
    },
    {
     "name": "stdout",
     "output_type": "stream",
     "text": [
      "Job 2 takes 2s\nAsyncio total time is 2.0154006481170654s\n"
     ]
    }
   ],
   "source": [
    "import asyncio\n",
    "\n",
    "async def job(t):\n",
    "    print('Job {} is starting...'.format(t))\n",
    "    await asyncio.sleep(t)\n",
    "    print('Job {} takes {}s'.format(t,t))\n",
    "    \n",
    "async def main(loop):\n",
    "    tasks = [loop.create_task(job(t)) for t in range(1, 3)] #创建任务，但不立即执行\n",
    "    await asyncio.wait(tasks) # 执行并等待所有任务完成\n",
    "\n",
    "begin = time.time()\n",
    "loop = asyncio.get_event_loop()\n",
    "loop.run_until_complete(main(loop))\n",
    "# loop.close()\n",
    "print('Asyncio total time is {}s'.format(time.time()-begin))"
   ]
  },
  {
   "cell_type": "markdown",
   "metadata": {},
   "source": [
    "## 使用同步方式请求网页信息"
   ]
  },
  {
   "cell_type": "code",
   "execution_count": 6,
   "metadata": {},
   "outputs": [
    {
     "name": "stdout",
     "output_type": "stream",
     "text": [
      "1->>>https://morvanzhou.github.io/\n"
     ]
    },
    {
     "name": "stdout",
     "output_type": "stream",
     "text": [
      "2->>>https://morvanzhou.github.io/\nSync request page costs 15.81052017211914s in total\n"
     ]
    }
   ],
   "source": [
    "import requests \n",
    "import time\n",
    "\n",
    "URL = 'https://morvanzhou.github.io/'\n",
    "\n",
    "\n",
    "def nomal(url):\n",
    "    for index in range(1,3):\n",
    "        r = requests.get(url)\n",
    "        print('{}->>>{}'.format(index, r.url))\n",
    "\n",
    "        \n",
    "begin = time.time()\n",
    "nomal(URL)\n",
    "print('Sync request page costs {}s in total'.format(time.time()-begin))"
   ]
  },
  {
   "cell_type": "markdown",
   "metadata": {},
   "source": [
    "## 使用异步方式请求网页信息\n",
    "\n",
    "此处，使用异步方式请求网页时，需要借助一个叫`aiohttp`的工具.\n"
   ]
  },
  {
   "cell_type": "code",
   "execution_count": 5,
   "metadata": {},
   "outputs": [
    {
     "name": "stdout",
     "output_type": "stream",
     "text": [
      "['https://morvanzhou.github.io/', 'https://morvanzhou.github.io/']\nAsynio aiohttp requests page costs 4.122832775115967s\n"
     ]
    }
   ],
   "source": [
    "import aiohttp\n",
    "import asyncio\n",
    "import time\n",
    "\n",
    "URL = 'https://morvanzhou.github.io/'\n",
    "\n",
    "async def job(session):\n",
    "    res = await session.get(URL)\n",
    "    return str(res.url)\n",
    "\n",
    "async def main(loop):\n",
    "    async with aiohttp.ClientSession() as session:\n",
    "        tasks = [loop.create_task(job(session)) for _ in range(2)]\n",
    "        finished, unfinished = await asyncio.wait(tasks)\n",
    "        all_results = [r.result() for r in finished]\n",
    "        print(all_results)\n",
    "        \n",
    "begin = time.time()\n",
    "loop = asyncio.get_event_loop()\n",
    "loop.run_until_complete(main(loop))\n",
    "# loop.close()\n",
    "print('Asynio aiohttp requests page costs {}s'.format(time.time()-begin))\n"
   ]
  },
  {
   "cell_type": "code",
   "execution_count": 14,
   "metadata": {},
   "outputs": [
    {
     "name": "stdout",
     "output_type": "stream",
     "text": [
      "{\"headers\":{\"Accept\":\"*/*\",\"Accept-Encoding\":\"gzip, deflate\",\"Connection\":\"close\",\"Host\":\"httpbin.org\",\"User-Agent\":\"Python/3.6 aiohttp/3.2.1\"}}\n",
      "\n",
      "Wall time: 3.12 s\n"
     ]
    }
   ],
   "source": [
    "\n",
    "%%time\n",
    "import aiohttp\n",
    "import asyncio\n",
    "\n",
    "async def fetch(session, url):\n",
    "    async with session.get(url) as response:\n",
    "        return await response.text()\n",
    "\n",
    "async def main():\n",
    "    async with aiohttp.ClientSession() as session:\n",
    "        html = await fetch(session, 'http://httpbin.org/headers')\n",
    "        print(html)\n",
    "\n",
    "loop = asyncio.get_event_loop()\n",
    "loop.run_until_complete(main())"
   ]
  },
  {
   "cell_type": "markdown",
   "metadata": {},
   "source": [
    "**Tips:**\n",
    ">- 在jupyter notebook的cell中加入一下代码，就可以使得每行的语句或变量都被打印出来。注意：加入后，要restart Kernel\n",
    "```python\n",
    "from IPython.core.interactiveshell import InteractiveShell\n",
    "InteractiveShell.ast_node_interactivity = \"all\"\n",
    "```\n",
    "- 在函数的前面加上`?`可以快速显示文档\n",
    "- %%time将会给出当前cell的运行花费时间\n"
   ]
  },
  {
   "cell_type": "code",
   "execution_count": 13,
   "metadata": {},
   "outputs": [
    {
     "name": "stdout",
     "output_type": "stream",
     "text": [
      "Wall time: 0 ns\n"
     ]
    }
   ],
   "source": [
    "%%time\n",
    "from IPython.core.interactiveshell import InteractiveShell\n",
    "InteractiveShell.ast_node_interactivity = \"all\"\n",
    "\n",
    "line1 = 'This is a new line'\n",
    "line2 = \"This is another new line\"\n",
    "\n",
    "line1\n",
    "line2\n"
   ]
  },
  {
   "cell_type": "code",
   "execution_count": 10,
   "metadata": {},
   "outputs": [],
   "source": []
  },
  {
   "cell_type": "code",
   "execution_count": null,
   "metadata": {},
   "outputs": [],
   "source": []
  },
  {
   "cell_type": "code",
   "execution_count": null,
   "metadata": {},
   "outputs": [],
   "source": []
  }
 ],
 "metadata": {
  "kernelspec": {
   "display_name": "Python 3",
   "language": "python",
   "name": "python3"
  },
  "language_info": {
   "codemirror_mode": {
    "name": "ipython",
    "version": 3
   },
   "file_extension": ".py",
   "mimetype": "text/x-python",
   "name": "python",
   "nbconvert_exporter": "python",
   "pygments_lexer": "ipython3",
   "version": "3.6.3"
  }
 },
 "nbformat": 4,
 "nbformat_minor": 2
}
